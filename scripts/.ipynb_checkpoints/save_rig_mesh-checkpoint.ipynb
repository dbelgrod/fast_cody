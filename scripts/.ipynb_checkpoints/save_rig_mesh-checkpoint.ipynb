{
 "cells": [
  {
   "cell_type": "code",
   "execution_count": 2,
   "id": "fe2b8621",
   "metadata": {},
   "outputs": [
    {
     "name": "stderr",
     "output_type": "stream",
     "text": [
      "objc[26334]: Class GLFWHelper is implemented in both /Users/zhangjiayi/Documents/projects/fast_cd_pyb/fast_cd_pyb.cpython-38-darwin.so (0x10db6d760) and /Users/zhangjiayi/opt/anaconda3/envs/fast_cd/lib/python3.8/site-packages/polyscope_bindings.cpython-38-darwin.so (0x142411b28). One of the two will be used. Which one is undefined.\n",
      "objc[26334]: Class GLFWApplicationDelegate is implemented in both /Users/zhangjiayi/Documents/projects/fast_cd_pyb/fast_cd_pyb.cpython-38-darwin.so (0x10db6d7b0) and /Users/zhangjiayi/opt/anaconda3/envs/fast_cd/lib/python3.8/site-packages/polyscope_bindings.cpython-38-darwin.so (0x142411b78). One of the two will be used. Which one is undefined.\n",
      "objc[26334]: Class GLFWWindowDelegate is implemented in both /Users/zhangjiayi/Documents/projects/fast_cd_pyb/fast_cd_pyb.cpython-38-darwin.so (0x10db6d7d8) and /Users/zhangjiayi/opt/anaconda3/envs/fast_cd/lib/python3.8/site-packages/polyscope_bindings.cpython-38-darwin.so (0x142411ba0). One of the two will be used. Which one is undefined.\n",
      "objc[26334]: Class GLFWContentView is implemented in both /Users/zhangjiayi/Documents/projects/fast_cd_pyb/fast_cd_pyb.cpython-38-darwin.so (0x10db6d828) and /Users/zhangjiayi/opt/anaconda3/envs/fast_cd/lib/python3.8/site-packages/polyscope_bindings.cpython-38-darwin.so (0x142411bf0). One of the two will be used. Which one is undefined.\n",
      "objc[26334]: Class GLFWWindow is implemented in both /Users/zhangjiayi/Documents/projects/fast_cd_pyb/fast_cd_pyb.cpython-38-darwin.so (0x10db6d8a0) and /Users/zhangjiayi/opt/anaconda3/envs/fast_cd/lib/python3.8/site-packages/polyscope_bindings.cpython-38-darwin.so (0x142411c68). One of the two will be used. Which one is undefined.\n"
     ]
    }
   ],
   "source": [
    "import fast_cd_pyb as fcd\n",
    "import igl\n",
    "import scipy as sp\n",
    "import numpy as np\n",
    "import polyscope as ps"
   ]
  },
  {
   "cell_type": "code",
   "execution_count": 3,
   "id": "8f3f1635",
   "metadata": {},
   "outputs": [],
   "source": [
    "[W, P0, pI, l, V, F, rig_type] = fcd.read_rig_from_json(\"../data/charizard/skeleton_rig_arms_legs/skeleton_rig_arms_legs.json\")"
   ]
  },
  {
   "cell_type": "code",
   "execution_count": 112,
   "id": "69a7f493",
   "metadata": {},
   "outputs": [],
   "source": [
    "P0 = np.reshape(P0,(-1,1),order='F')"
   ]
  },
  {
   "cell_type": "code",
   "execution_count": 113,
   "id": "356e817d",
   "metadata": {},
   "outputs": [
    {
     "data": {
      "text/plain": [
       "array([-1,  0,  1,  0,  3,  0,  5,  0,  7,  0], dtype=int32)"
      ]
     },
     "execution_count": 113,
     "metadata": {},
     "output_type": "execute_result"
    }
   ],
   "source": [
    "pI"
   ]
  },
  {
   "cell_type": "code",
   "execution_count": 130,
   "id": "bade9c93",
   "metadata": {},
   "outputs": [],
   "source": [
    "[sV,sF,sC] = fcd.get_skeleton_mesh(0.05,P0,l)"
   ]
  },
  {
   "cell_type": "code",
   "execution_count": 131,
   "id": "a526e16d",
   "metadata": {},
   "outputs": [
    {
     "data": {
      "text/plain": [
       "<polyscope.surface_mesh.SurfaceMesh at 0x7fc3394b4220>"
      ]
     },
     "execution_count": 131,
     "metadata": {},
     "output_type": "execute_result"
    }
   ],
   "source": [
    "ps.init()\n",
    "ps.register_surface_mesh(\"sim mesh\", V, F, smooth_shade=True)\n",
    "ps.register_surface_mesh(\"skeleton mesh\", sV, sF, smooth_shade=True)"
   ]
  },
  {
   "cell_type": "code",
   "execution_count": null,
   "id": "ee5de5d6",
   "metadata": {},
   "outputs": [],
   "source": [
    "ps.show()"
   ]
  },
  {
   "cell_type": "code",
   "execution_count": null,
   "id": "82f62cc6",
   "metadata": {},
   "outputs": [],
   "source": []
  }
 ],
 "metadata": {
  "kernelspec": {
   "display_name": "Python 3 (ipykernel)",
   "language": "python",
   "name": "python3"
  },
  "language_info": {
   "codemirror_mode": {
    "name": "ipython",
    "version": 3
   },
   "file_extension": ".py",
   "mimetype": "text/x-python",
   "name": "python",
   "nbconvert_exporter": "python",
   "pygments_lexer": "ipython3",
   "version": "3.8.13"
  }
 },
 "nbformat": 4,
 "nbformat_minor": 5
}
