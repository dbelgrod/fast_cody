{
 "cells": [
  {
   "cell_type": "code",
   "execution_count": 11,
   "id": "fe2b8621",
   "metadata": {},
   "outputs": [],
   "source": [
    "import fast_cd_pyb as fcd\n",
    "import igl\n",
    "import scipy as sp\n",
    "import numpy as np\n",
    "import polyscope as ps"
   ]
  },
  {
   "cell_type": "code",
   "execution_count": 20,
   "id": "8f3f1635",
   "metadata": {},
   "outputs": [],
   "source": [
    "[W, P0, pI, l, V, F, rig_type] = fcd.read_rig_from_json(\"../data/charizard/skeleton_rig_arms_legs/skeleton_rig_arms_legs.json\")"
   ]
  },
  {
   "cell_type": "code",
   "execution_count": 21,
   "id": "69a7f493",
   "metadata": {},
   "outputs": [],
   "source": [
    "P0 = np.reshape(P0,(-1,1),order='F')"
   ]
  },
  {
   "cell_type": "code",
   "execution_count": 22,
   "id": "bade9c93",
   "metadata": {},
   "outputs": [],
   "source": [
    "[sV,sF,sC] = fcd.get_skeleton_mesh(0.05,P0,l)"
   ]
  },
  {
   "cell_type": "code",
   "execution_count": 23,
   "id": "7a0770ba",
   "metadata": {},
   "outputs": [
    {
     "data": {
      "text/plain": [
       "True"
      ]
     },
     "execution_count": 23,
     "metadata": {},
     "output_type": "execute_result"
    }
   ],
   "source": [
    "igl.write_triangle_mesh(\"../data/charizard/skeleton_rig_arms_legs/rig_mesh.obj\",sV,sF)"
   ]
  },
  {
   "cell_type": "code",
   "execution_count": 24,
   "id": "a526e16d",
   "metadata": {},
   "outputs": [
    {
     "name": "stdout",
     "output_type": "stream",
     "text": [
      "[polyscope] Backend: openGL3_glfw -- Loaded openGL version: 4.1 Metal - 76.3\n"
     ]
    },
    {
     "name": "stderr",
     "output_type": "stream",
     "text": [
      "GLFW emitted error: Cocoa: Failed to find service port for display\n",
      "GLFW emitted error: Cocoa: Failed to find service port for display\n"
     ]
    },
    {
     "data": {
      "text/plain": [
       "<polyscope.surface_mesh.SurfaceMesh at 0x7f9848551e20>"
      ]
     },
     "execution_count": 24,
     "metadata": {},
     "output_type": "execute_result"
    }
   ],
   "source": [
    "ps.init()\n",
    "ps.register_surface_mesh(\"sim mesh\", V, F, smooth_shade=True)\n",
    "ps.register_surface_mesh(\"skeleton mesh\", sV, sF, smooth_shade=True)"
   ]
  },
  {
   "cell_type": "code",
   "execution_count": null,
   "id": "ee5de5d6",
   "metadata": {},
   "outputs": [],
   "source": [
    "ps.show()"
   ]
  },
  {
   "cell_type": "code",
   "execution_count": 4,
   "id": "82f62cc6",
   "metadata": {},
   "outputs": [
    {
     "data": {
      "text/plain": [
       "array([[0, 0, 0],\n",
       "       [0, 0, 0],\n",
       "       [0, 0, 0],\n",
       "       [0, 0, 0],\n",
       "       [0, 0, 0],\n",
       "       [0, 0, 0],\n",
       "       [0, 0, 0],\n",
       "       [0, 0, 0],\n",
       "       [0, 0, 0],\n",
       "       [0, 0, 0],\n",
       "       [0, 0, 0],\n",
       "       [0, 0, 0],\n",
       "       [0, 0, 0],\n",
       "       [0, 0, 0],\n",
       "       [0, 0, 0],\n",
       "       [0, 0, 0],\n",
       "       [0, 0, 0],\n",
       "       [0, 0, 0],\n",
       "       [0, 0, 0],\n",
       "       [0, 0, 0],\n",
       "       [0, 0, 0],\n",
       "       [0, 0, 0],\n",
       "       [0, 0, 0],\n",
       "       [0, 0, 0],\n",
       "       [0, 0, 0],\n",
       "       [0, 0, 0],\n",
       "       [0, 0, 0],\n",
       "       [0, 0, 0],\n",
       "       [0, 0, 0],\n",
       "       [0, 0, 0],\n",
       "       [0, 0, 0],\n",
       "       [0, 0, 0],\n",
       "       [0, 0, 0],\n",
       "       [0, 0, 0],\n",
       "       [0, 0, 0],\n",
       "       [0, 0, 0],\n",
       "       [0, 0, 0],\n",
       "       [0, 0, 0],\n",
       "       [0, 0, 0],\n",
       "       [0, 0, 0]])"
      ]
     },
     "execution_count": 4,
     "metadata": {},
     "output_type": "execute_result"
    }
   ],
   "source": [
    "(P0 > 1)*1"
   ]
  }
 ],
 "metadata": {
  "kernelspec": {
   "display_name": "Python 3 (ipykernel)",
   "language": "python",
   "name": "python3"
  },
  "language_info": {
   "codemirror_mode": {
    "name": "ipython",
    "version": 3
   },
   "file_extension": ".py",
   "mimetype": "text/x-python",
   "name": "python",
   "nbconvert_exporter": "python",
   "pygments_lexer": "ipython3",
   "version": "3.8.13"
  }
 },
 "nbformat": 4,
 "nbformat_minor": 5
}
